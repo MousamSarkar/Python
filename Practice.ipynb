{
 "cells": [
  {
   "cell_type": "code",
   "execution_count": 2,
   "metadata": {},
   "outputs": [
    {
     "name": "stdout",
     "output_type": "stream",
     "text": [
      "18\n",
      "P\n",
      "g\n",
      "P\n",
      "Pyt\n",
      "thon Programming\n",
      "Pyth\n",
      "Python Programming\n"
     ]
    }
   ],
   "source": [
    "course_name = \"Python Programming\"\n",
    "\n",
    "# Length of String\n",
    "\n",
    "print(len(course_name))\n",
    "\n",
    "#Print a specific character of a String\n",
    "print(course_name[0])\n",
    "\n",
    "#Print from the last character of the string\n",
    "print(course_name[-1]) #Last Character\n",
    "print(course_name[-18]) #First Character \n",
    "\n",
    "#Print a segment of the string\n",
    "print(course_name[0:3]) # Characters from 0 to position 2\n",
    "print(course_name[2:])  #From a starting position till the end\n",
    "print(course_name[:4] )  #From the first character to the specified last character)\n",
    "print(course_name[:])   #Create a copy of the string\n",
    "\n",
    "\n",
    "\n"
   ]
  },
  {
   "cell_type": "code",
   "execution_count": 3,
   "metadata": {},
   "outputs": [
    {
     "name": "stdout",
     "output_type": "stream",
     "text": [
      "Mousam \"Sarkar\n",
      "Mousam 'Sarkar\n",
      "Mousam \n",
      "Sarkar\n",
      "Mousam \\Sarkar\n"
     ]
    }
   ],
   "source": [
    "#Escape Sequences\n",
    "\n",
    "course_name = \"Mousam \\\"Sarkar\"\n",
    "\n",
    "print(course_name)\n",
    "\n",
    "course_name = \"Mousam \\'Sarkar\"\n",
    "\n",
    "print(course_name)\n",
    "\n",
    "course_name = \"Mousam \\nSarkar\"\n",
    "\n",
    "print(course_name)\n",
    "course_name = \"Mousam \\\\Sarkar\"\n",
    "\n",
    "print(course_name)"
   ]
  },
  {
   "cell_type": "code",
   "execution_count": 4,
   "metadata": {},
   "outputs": [
    {
     "name": "stdout",
     "output_type": "stream",
     "text": [
      "Using addition concatenation : Mousam Sarkar\n",
      "Using formatted Strings 1 : Mousam Sarkar\n",
      "Using formatted Strings 2 : Mousam Sarkar\n",
      "Using formatted Strings 3: 6 Sarkar\n",
      "Using formatted Strings 4: Mousam 4\n"
     ]
    }
   ],
   "source": [
    "#Formatted Strings\n",
    "\n",
    "first = \"Mousam\"\n",
    "last = \"Sarkar\"\n",
    "\n",
    "full_name = first + \" \" + last\n",
    "\n",
    "print(\"Using addition concatenation :\",full_name)\n",
    "\n",
    "full_name_formatted = f\"{first} {last}\"\n",
    "print(\"Using formatted Strings 1 :\",full_name_formatted)\n",
    "\n",
    "full_name_formatted = F\"{first} {last}\"\n",
    "print(\"Using formatted Strings 2 :\",full_name_formatted)\n",
    "\n",
    "full_name_formatted = f\"{len(first)} {last}\"\n",
    "print(\"Using formatted Strings 3:\",full_name_formatted)\n",
    "\n",
    "full_name_formatted = f\"{first} {2 + 2}\"\n",
    "print(\"Using formatted Strings 4:\",full_name_formatted)"
   ]
  },
  {
   "cell_type": "code",
   "execution_count": 12,
   "metadata": {},
   "outputs": [
    {
     "name": "stdout",
     "output_type": "stream",
     "text": [
      "  PYTHON PROGRAMMING  \n",
      "  python programming  \n",
      "Python Programming Is Very Easy To Learn\n",
      "Python Programming\n",
      "  Python Programming\n",
      "Python Programming  \n",
      "-1\n",
      "  Python Programming  \n",
      "False\n",
      "True\n"
     ]
    }
   ],
   "source": [
    "#String Methods\n",
    "\n",
    "course = \"  Python Programming  \"\n",
    "\n",
    "statement = \"python programming is very easy to learn\"\n",
    "\n",
    "print(course.upper()) #To get the string in capital letters.\n",
    "#The upper function doesnot change the existing string but \n",
    "#creates a new string\n",
    "\n",
    "print(course.lower())\n",
    "print(statement.title()) #This capitalizes the first alphabet of evey word\n",
    "\n",
    "print(course.strip()) #Remove spaces from both ends\n",
    "print(course.rstrip()) #Removes spaces from the right end\n",
    "print(course.lstrip()) #Removes spaces from the left end\n",
    "\n",
    "print(course.find(\"Pri\")) #Find the given string, if found return the position of the string, else -1\n",
    "\n",
    "print(course.replace(\"p\", \"j\"))\n",
    "\n",
    "print(\"pro\" in course) #Find the string and if present returns a boolean value instead of the position\n",
    "print(\"Swift\" not in course) #Checks if the string is not present and returns a boolean value"
   ]
  },
  {
   "cell_type": "code",
   "execution_count": 13,
   "metadata": {},
   "outputs": [
    {
     "name": "stdout",
     "output_type": "stream",
     "text": [
      "3.3333333333333335\n",
      "3\n",
      "1\n",
      "1000\n"
     ]
    }
   ],
   "source": [
    "#Numbers\n",
    "\n",
    "print(10 / 3) #Gives the result in decimal (float)\n",
    "\n",
    "print(10 // 3) #Gives the number in integer\n",
    "\n",
    "print(10 % 3) #Gives the remainder\n",
    "\n",
    "print(10 ** 3) #Gives exponent, left value to the power right i.e 10^3"
   ]
  }
 ],
 "metadata": {
  "kernelspec": {
   "display_name": "Python 3.10.2 64-bit",
   "language": "python",
   "name": "python3"
  },
  "language_info": {
   "codemirror_mode": {
    "name": "ipython",
    "version": 3
   },
   "file_extension": ".py",
   "mimetype": "text/x-python",
   "name": "python",
   "nbconvert_exporter": "python",
   "pygments_lexer": "ipython3",
   "version": "3.10.2"
  },
  "orig_nbformat": 4,
  "vscode": {
   "interpreter": {
    "hash": "93ab172f5cc4dd57e68fab09fe794f220bb51115cbf4718a20e92c95641cbd87"
   }
  }
 },
 "nbformat": 4,
 "nbformat_minor": 2
}
