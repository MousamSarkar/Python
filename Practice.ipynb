{
 "cells": [
  {
   "cell_type": "code",
   "execution_count": 15,
   "metadata": {},
   "outputs": [
    {
     "name": "stdout",
     "output_type": "stream",
     "text": [
      "18\n",
      "P\n",
      "g\n",
      "P\n",
      "Pyt\n"
     ]
    }
   ],
   "source": [
    "course_name = \"Python Programming\"\n",
    "\n",
    "# Length of String\n",
    "\n",
    "print(len(course_name))\n",
    "\n",
    "#Print a specific character of a String\n",
    "print(course_name[0])\n",
    "\n",
    "#Print from the last character of the string\n",
    "print(course_name[-1])\n",
    "print(course_name[-18])\n",
    "\n",
    "#Print a segment of the string\n",
    "print(course_name[0:3])\n",
    "\n",
    "\n"
   ]
  },
  {
   "cell_type": "code",
   "execution_count": null,
   "metadata": {},
   "outputs": [],
   "source": []
  }
 ],
 "metadata": {
  "kernelspec": {
   "display_name": "Python 3.10.2 64-bit",
   "language": "python",
   "name": "python3"
  },
  "language_info": {
   "codemirror_mode": {
    "name": "ipython",
    "version": 3
   },
   "file_extension": ".py",
   "mimetype": "text/x-python",
   "name": "python",
   "nbconvert_exporter": "python",
   "pygments_lexer": "ipython3",
   "version": "3.10.2"
  },
  "orig_nbformat": 4,
  "vscode": {
   "interpreter": {
    "hash": "93ab172f5cc4dd57e68fab09fe794f220bb51115cbf4718a20e92c95641cbd87"
   }
  }
 },
 "nbformat": 4,
 "nbformat_minor": 2
}
